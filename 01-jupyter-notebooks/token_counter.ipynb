{
 "cells": [
  {
   "cell_type": "code",
   "execution_count": 2,
   "id": "7c48ab4b",
   "metadata": {},
   "outputs": [],
   "source": [
    "import pandas as pd\n",
    "\n",
    "# Load CSV file\n",
    "file_path = 'chess_games.csv'\n",
    "df = pd.read_csv(file_path)"
   ]
  },
  {
   "cell_type": "code",
   "execution_count": 3,
   "id": "b1a5237d",
   "metadata": {},
   "outputs": [
    {
     "data": {
      "text/html": [
       "<div>\n",
       "<style scoped>\n",
       "    .dataframe tbody tr th:only-of-type {\n",
       "        vertical-align: middle;\n",
       "    }\n",
       "\n",
       "    .dataframe tbody tr th {\n",
       "        vertical-align: top;\n",
       "    }\n",
       "\n",
       "    .dataframe thead th {\n",
       "        text-align: right;\n",
       "    }\n",
       "</style>\n",
       "<table border=\"1\" class=\"dataframe\">\n",
       "  <thead>\n",
       "    <tr style=\"text-align: right;\">\n",
       "      <th></th>\n",
       "      <th>url</th>\n",
       "      <th>pgn</th>\n",
       "      <th>time_control</th>\n",
       "      <th>end_time</th>\n",
       "      <th>rated</th>\n",
       "      <th>time_class</th>\n",
       "      <th>rules</th>\n",
       "      <th>white_username</th>\n",
       "      <th>white_rating</th>\n",
       "      <th>black_username</th>\n",
       "      <th>black_rating</th>\n",
       "      <th>result</th>\n",
       "    </tr>\n",
       "  </thead>\n",
       "  <tbody>\n",
       "    <tr>\n",
       "      <th>0</th>\n",
       "      <td>https://www.chess.com/game/live/97872578329</td>\n",
       "      <td>[Event \"Live Chess\"]\\n[Site \"Chess.com\"]\\n[Dat...</td>\n",
       "      <td>180</td>\n",
       "      <td>2024-01-01 19:28:26</td>\n",
       "      <td>True</td>\n",
       "      <td>blitz</td>\n",
       "      <td>chess</td>\n",
       "      <td>Hikaru</td>\n",
       "      <td>3236</td>\n",
       "      <td>Gravity_Chess</td>\n",
       "      <td>2867</td>\n",
       "      <td>1-0</td>\n",
       "    </tr>\n",
       "    <tr>\n",
       "      <th>1</th>\n",
       "      <td>https://www.chess.com/game/live/97872681559</td>\n",
       "      <td>[Event \"Live Chess\"]\\n[Site \"Chess.com\"]\\n[Dat...</td>\n",
       "      <td>180</td>\n",
       "      <td>2024-01-01 19:31:45</td>\n",
       "      <td>True</td>\n",
       "      <td>blitz</td>\n",
       "      <td>chess</td>\n",
       "      <td>Gravity_Chess</td>\n",
       "      <td>2865</td>\n",
       "      <td>Hikaru</td>\n",
       "      <td>3238</td>\n",
       "      <td>0-1</td>\n",
       "    </tr>\n",
       "    <tr>\n",
       "      <th>2</th>\n",
       "      <td>https://www.chess.com/game/live/97950132781</td>\n",
       "      <td>[Event \"Live Chess\"]\\n[Site \"Chess.com\"]\\n[Dat...</td>\n",
       "      <td>180+1</td>\n",
       "      <td>2024-01-02 17:07:07</td>\n",
       "      <td>True</td>\n",
       "      <td>blitz</td>\n",
       "      <td>chess</td>\n",
       "      <td>GiorgianBarbosa</td>\n",
       "      <td>2531</td>\n",
       "      <td>Hikaru</td>\n",
       "      <td>3238</td>\n",
       "      <td>0-1</td>\n",
       "    </tr>\n",
       "    <tr>\n",
       "      <th>3</th>\n",
       "      <td>https://www.chess.com/game/live/97950760747</td>\n",
       "      <td>[Event \"Live Chess\"]\\n[Site \"Chess.com\"]\\n[Dat...</td>\n",
       "      <td>180+1</td>\n",
       "      <td>2024-01-02 17:19:19</td>\n",
       "      <td>True</td>\n",
       "      <td>blitz</td>\n",
       "      <td>chess</td>\n",
       "      <td>Hikaru</td>\n",
       "      <td>3239</td>\n",
       "      <td>Witik</td>\n",
       "      <td>2675</td>\n",
       "      <td>1-0</td>\n",
       "    </tr>\n",
       "    <tr>\n",
       "      <th>4</th>\n",
       "      <td>https://www.chess.com/game/live/97951339723</td>\n",
       "      <td>[Event \"Live Chess\"]\\n[Site \"Chess.com\"]\\n[Dat...</td>\n",
       "      <td>180+1</td>\n",
       "      <td>2024-01-02 17:28:33</td>\n",
       "      <td>True</td>\n",
       "      <td>blitz</td>\n",
       "      <td>chess</td>\n",
       "      <td>dretch</td>\n",
       "      <td>2797</td>\n",
       "      <td>Hikaru</td>\n",
       "      <td>3240</td>\n",
       "      <td>0-1</td>\n",
       "    </tr>\n",
       "  </tbody>\n",
       "</table>\n",
       "</div>"
      ],
      "text/plain": [
       "                                           url  \\\n",
       "0  https://www.chess.com/game/live/97872578329   \n",
       "1  https://www.chess.com/game/live/97872681559   \n",
       "2  https://www.chess.com/game/live/97950132781   \n",
       "3  https://www.chess.com/game/live/97950760747   \n",
       "4  https://www.chess.com/game/live/97951339723   \n",
       "\n",
       "                                                 pgn time_control  \\\n",
       "0  [Event \"Live Chess\"]\\n[Site \"Chess.com\"]\\n[Dat...          180   \n",
       "1  [Event \"Live Chess\"]\\n[Site \"Chess.com\"]\\n[Dat...          180   \n",
       "2  [Event \"Live Chess\"]\\n[Site \"Chess.com\"]\\n[Dat...        180+1   \n",
       "3  [Event \"Live Chess\"]\\n[Site \"Chess.com\"]\\n[Dat...        180+1   \n",
       "4  [Event \"Live Chess\"]\\n[Site \"Chess.com\"]\\n[Dat...        180+1   \n",
       "\n",
       "              end_time  rated time_class  rules   white_username  \\\n",
       "0  2024-01-01 19:28:26   True      blitz  chess           Hikaru   \n",
       "1  2024-01-01 19:31:45   True      blitz  chess    Gravity_Chess   \n",
       "2  2024-01-02 17:07:07   True      blitz  chess  GiorgianBarbosa   \n",
       "3  2024-01-02 17:19:19   True      blitz  chess           Hikaru   \n",
       "4  2024-01-02 17:28:33   True      blitz  chess           dretch   \n",
       "\n",
       "   white_rating black_username  black_rating result  \n",
       "0          3236  Gravity_Chess          2867    1-0  \n",
       "1          2865         Hikaru          3238    0-1  \n",
       "2          2531         Hikaru          3238    0-1  \n",
       "3          3239          Witik          2675    1-0  \n",
       "4          2797         Hikaru          3240    0-1  "
      ]
     },
     "execution_count": 3,
     "metadata": {},
     "output_type": "execute_result"
    }
   ],
   "source": [
    "df.head()"
   ]
  },
  {
   "cell_type": "code",
   "execution_count": 5,
   "id": "56fb1b56",
   "metadata": {},
   "outputs": [
    {
     "name": "stderr",
     "output_type": "stream",
     "text": [
      "Token indices sequence length is longer than the specified maximum sequence length for this model (2086 > 1024). Running this sequence through the model will result in indexing errors\n"
     ]
    },
    {
     "name": "stdout",
     "output_type": "stream",
     "text": [
      "Total number of tokens: 16184482\n"
     ]
    }
   ],
   "source": [
    "# Initialize the tokenizer\n",
    "tokenizer = GPT2Tokenizer.from_pretrained(\"gpt2\")\n",
    "\n",
    "# Function to count tokens in a single text\n",
    "def count_tokens(text):\n",
    "    tokens = tokenizer.encode(text)\n",
    "    return len(tokens)\n",
    "\n",
    "# Apply the token counting function to each row and sum the results\n",
    "total_tokens = df.apply(lambda row: count_tokens(' '.join(row.astype(str))), axis=1).sum()\n",
    "\n",
    "print(f'Total number of tokens: {total_tokens}')"
   ]
  },
  {
   "cell_type": "code",
   "execution_count": 6,
   "id": "b8b2cdf5",
   "metadata": {},
   "outputs": [
    {
     "data": {
      "text/plain": [
       "1.6184482"
      ]
     },
     "execution_count": 6,
     "metadata": {},
     "output_type": "execute_result"
    }
   ],
   "source": [
    "total_tokens / 1000 * 0.0001"
   ]
  }
 ],
 "metadata": {
  "kernelspec": {
   "display_name": "Python 3 (ipykernel)",
   "language": "python",
   "name": "python3"
  },
  "language_info": {
   "codemirror_mode": {
    "name": "ipython",
    "version": 3
   },
   "file_extension": ".py",
   "mimetype": "text/x-python",
   "name": "python",
   "nbconvert_exporter": "python",
   "pygments_lexer": "ipython3",
   "version": "3.11.5"
  }
 },
 "nbformat": 4,
 "nbformat_minor": 5
}
