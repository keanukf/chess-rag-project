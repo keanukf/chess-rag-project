{
 "cells": [
  {
   "cell_type": "code",
   "execution_count": 1,
   "id": "4669aa42",
   "metadata": {},
   "outputs": [
    {
     "data": {
      "application/vnd.jupyter.widget-view+json": {
       "model_id": "c7452b463bc7457dbfa3777c3ef008e4",
       "version_major": 2,
       "version_minor": 0
      },
      "text/plain": [
       "Downloading tokenizer_config.json:   0%|          | 0.00/48.0 [00:00<?, ?B/s]"
      ]
     },
     "metadata": {},
     "output_type": "display_data"
    },
    {
     "data": {
      "application/vnd.jupyter.widget-view+json": {
       "model_id": "48770587c3d44a74848b99f44de14d3d",
       "version_major": 2,
       "version_minor": 0
      },
      "text/plain": [
       "Downloading config.json:   0%|          | 0.00/570 [00:00<?, ?B/s]"
      ]
     },
     "metadata": {},
     "output_type": "display_data"
    },
    {
     "data": {
      "application/vnd.jupyter.widget-view+json": {
       "model_id": "f3a6f25b02bd45988efd0763f6aa620e",
       "version_major": 2,
       "version_minor": 0
      },
      "text/plain": [
       "Downloading vocab.txt:   0%|          | 0.00/232k [00:00<?, ?B/s]"
      ]
     },
     "metadata": {},
     "output_type": "display_data"
    },
    {
     "data": {
      "application/vnd.jupyter.widget-view+json": {
       "model_id": "6898ca46b60d4d41ac13f7015c51028a",
       "version_major": 2,
       "version_minor": 0
      },
      "text/plain": [
       "Downloading tokenizer.json:   0%|          | 0.00/466k [00:00<?, ?B/s]"
      ]
     },
     "metadata": {},
     "output_type": "display_data"
    },
    {
     "name": "stderr",
     "output_type": "stream",
     "text": [
      "/Users/keanuprivatbenutzer/anaconda3/lib/python3.11/site-packages/transformers/utils/generic.py:260: UserWarning: torch.utils._pytree._register_pytree_node is deprecated. Please use torch.utils._pytree.register_pytree_node instead.\n",
      "  torch.utils._pytree._register_pytree_node(\n"
     ]
    },
    {
     "data": {
      "application/vnd.jupyter.widget-view+json": {
       "model_id": "3656b01083984963b9ea2b162b2b7afa",
       "version_major": 2,
       "version_minor": 0
      },
      "text/plain": [
       "Downloading model.safetensors:   0%|          | 0.00/440M [00:00<?, ?B/s]"
      ]
     },
     "metadata": {},
     "output_type": "display_data"
    }
   ],
   "source": [
    "import torch\n",
    "import json\n",
    "from transformers import AutoTokenizer, AutoModel\n",
    "from pinecone import Pinecone\n",
    "\n",
    "# Initialize Pinecone\n",
    "api_key = '801871e8-e0fa-4e25-abd2-62bdcfef9c2c'\n",
    "pc = Pinecone(api_key=api_key)\n",
    "index = pc.Index('chess-games')\n",
    "\n",
    "# Load BERT model and tokenizer\n",
    "model_name = 'bert-base-uncased'\n",
    "tokenizer = AutoTokenizer.from_pretrained(model_name)\n",
    "model = AutoModel.from_pretrained(model_name)\n",
    "\n",
    "# Ensure the model uses the GPU if available\n",
    "device = torch.device('cuda' if torch.cuda.is_available() else 'cpu')\n",
    "model.to(device)\n",
    "\n",
    "def embed_query(query):\n",
    "    inputs = tokenizer(query, return_tensors='pt', padding=True, truncation=True).to(device)\n",
    "    with torch.no_grad():\n",
    "        outputs = model(**inputs)\n",
    "    query_embedding = outputs.last_hidden_state.mean(dim=1).cpu().numpy().tolist()\n",
    "    return query_embedding[0]\n",
    "\n",
    "def search_similar_games(player_name, query, time_class):\n",
    "    # Embed the query\n",
    "    query_embedding = embed_query(query)\n",
    "\n",
    "    # Define the metadata filter based on the time_class\n",
    "    filter_criteria = {'time_class': time_class} if time_class else {}\n",
    "    \n",
    "    # Perform a similarity search in Pinecone\n",
    "    response = index.query(\n",
    "        vector=query_embedding,\n",
    "        top_k=5,  # Adjust top_k based on how many similar games you want to retrieve\n",
    "        namespace=player_name,\n",
    "        include_metadata=True,\n",
    "        filter=filter_criteria  # Apply the time_class filter\n",
    "    )\n",
    "\n",
    "    # Extract the relevant metadata\n",
    "    relevant_games = []\n",
    "    for match in response['matches']:\n",
    "        metadata = match['metadata']\n",
    "        relevant_games.append(metadata)\n",
    "\n",
    "    return relevant_games"
   ]
  },
  {
   "cell_type": "code",
   "execution_count": 2,
   "id": "632d1cee",
   "metadata": {},
   "outputs": [
    {
     "name": "stdout",
     "output_type": "stream",
     "text": [
      "Game 1:\n",
      "{\n",
      "  \"black_rating\": 2619.0,\n",
      "  \"black_username\": \"nindjaxx8\",\n",
      "  \"end_time\": \"2024-01-24 19:12:51\",\n",
      "  \"result\": \"1-0\",\n",
      "  \"rules\": \"chess\",\n",
      "  \"time_class\": \"blitz\",\n",
      "  \"time_control\": \"180\",\n",
      "  \"white_rating\": 3261.0,\n",
      "  \"white_username\": \"Hikaru\"\n",
      "}\n",
      "Game 2:\n",
      "{\n",
      "  \"black_rating\": 3219.0,\n",
      "  \"black_username\": \"Hikaru\",\n",
      "  \"end_time\": \"2024-05-01 21:01:02\",\n",
      "  \"result\": \"0-1\",\n",
      "  \"rules\": \"chess\",\n",
      "  \"time_class\": \"blitz\",\n",
      "  \"time_control\": \"180\",\n",
      "  \"white_rating\": 3025.0,\n",
      "  \"white_username\": \"ChristopherYoo\"\n",
      "}\n",
      "Game 3:\n",
      "{\n",
      "  \"black_rating\": 2987.0,\n",
      "  \"black_username\": \"GMBenjaminBok\",\n",
      "  \"end_time\": \"2024-02-28 19:24:10\",\n",
      "  \"result\": \"1-0\",\n",
      "  \"rules\": \"chess\",\n",
      "  \"time_class\": \"blitz\",\n",
      "  \"time_control\": \"180\",\n",
      "  \"white_rating\": 3287.0,\n",
      "  \"white_username\": \"Hikaru\"\n",
      "}\n",
      "Game 4:\n",
      "{\n",
      "  \"black_rating\": 2749.0,\n",
      "  \"black_username\": \"eagleclaw07\",\n",
      "  \"end_time\": \"2024-01-30 18:16:54\",\n",
      "  \"result\": \"1-0\",\n",
      "  \"rules\": \"chess\",\n",
      "  \"time_class\": \"blitz\",\n",
      "  \"time_control\": \"180+1\",\n",
      "  \"white_rating\": 3275.0,\n",
      "  \"white_username\": \"Hikaru\"\n",
      "}\n",
      "Game 5:\n",
      "{\n",
      "  \"black_rating\": 2969.0,\n",
      "  \"black_username\": \"GMBenjaminBok\",\n",
      "  \"end_time\": \"2024-07-24 00:57:36\",\n",
      "  \"result\": \"1-0\",\n",
      "  \"rules\": \"chess\",\n",
      "  \"time_class\": \"blitz\",\n",
      "  \"time_control\": \"180+1\",\n",
      "  \"white_rating\": 3220.0,\n",
      "  \"white_username\": \"Hikaru\"\n",
      "}\n"
     ]
    }
   ],
   "source": [
    "# Example usage\n",
    "player_name = 'Hikaru'\n",
    "query = 'Show me the games where Hikaru lost as black.'\n",
    "time_class = 'blitz'\n",
    "\n",
    "relevant_games = search_similar_games(player_name, query, time_class)\n",
    "\n",
    "# Print the relevant game metadata\n",
    "for i, game in enumerate(relevant_games):\n",
    "    print(f\"Game {i+1}:\")\n",
    "    print(json.dumps(game, indent=2))"
   ]
  },
  {
   "cell_type": "code",
   "execution_count": null,
   "id": "03db1645",
   "metadata": {},
   "outputs": [],
   "source": []
  }
 ],
 "metadata": {
  "kernelspec": {
   "display_name": "Python 3 (ipykernel)",
   "language": "python",
   "name": "python3"
  },
  "language_info": {
   "codemirror_mode": {
    "name": "ipython",
    "version": 3
   },
   "file_extension": ".py",
   "mimetype": "text/x-python",
   "name": "python",
   "nbconvert_exporter": "python",
   "pygments_lexer": "ipython3",
   "version": "3.11.5"
  }
 },
 "nbformat": 4,
 "nbformat_minor": 5
}
